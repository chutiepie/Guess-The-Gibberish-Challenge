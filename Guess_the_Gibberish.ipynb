{
 "cells": [
  {
   "cell_type": "code",
   "execution_count": 63,
   "metadata": {},
   "outputs": [],
   "source": [
    "import pandas as pd\n",
    "import numpy as np\n",
    "import matplotlib.pylab as plt\n",
    "import random\n",
    "import gc\n",
    "import math\n",
    "import fuzzy\n",
    "%matplotlib inline"
   ]
  },
  {
   "cell_type": "code",
   "execution_count": 64,
   "metadata": {},
   "outputs": [],
   "source": [
    "def free_memory():\n",
    "    gc.collect()"
   ]
  },
  {
   "cell_type": "code",
   "execution_count": 65,
   "metadata": {},
   "outputs": [],
   "source": [
    "proverbs = [\"A blessing in disguise\", \n",
    "           \"A dime a dozen\",\n",
    "           \"Beat around the bush\",\n",
    "           \"Better late than never\",\n",
    "           \"Bite the bullet\",\n",
    "           \"Break a leg\",\n",
    "           \"Call it a day\",\n",
    "           \"Under the weather\",\n",
    "           \"Time flies when you're having fun\",\n",
    "            \"Speak of the devil\",\n",
    "            \"The best of both worlds\"\n",
    "           ]"
   ]
  },
  {
   "cell_type": "code",
   "execution_count": 66,
   "metadata": {},
   "outputs": [],
   "source": [
    "def get_soundex(name):\n",
    "    \"\"\"Get the soundex code for the string\"\"\"\n",
    "    name = name.upper()\n",
    "\n",
    "    soundex = \"\"\n",
    "    soundex += name[0]\n",
    "\n",
    "    dictionary = {\"BFPV\": \"1\", \"CGJKQSXZ\":\"2\", \"DT\":\"3\", \"L\":\"4\", \"MN\":\"5\", \"R\":\"6\", \"AEIOUHWY\":\".\"}\n",
    "\n",
    "    for char in name[1:]:\n",
    "        for key in dictionary.keys():\n",
    "            if char in key:\n",
    "                code = dictionary[key]\n",
    "                if code != soundex[-1]:\n",
    "                    soundex += code\n",
    "\n",
    "    soundex = soundex.replace(\".\", \"\")\n",
    "    soundex = soundex[:6].ljust(6, \"0\")\n",
    "\n",
    "    return soundex"
   ]
  },
  {
   "cell_type": "code",
   "execution_count": 67,
   "metadata": {},
   "outputs": [],
   "source": [
    "def get_soundex_modified(name):\n",
    "    \"\"\"Get the soundex code for the string\"\"\"\n",
    "    name = name.upper()\n",
    "\n",
    "    soundex = \"\"\n",
    "    soundex += name[0]\n",
    "\n",
    "    dictionary = {\"BFPV\": \"1\", \"CGJKQSXZ\":\"2\", \"DT\":\"3\", \"L\":\"4\", \"MN\":\"5\", \"R\":\"6\",\"EIY\":\"7\",\"OU\":\"8\",\"AHW\":\".\"}\n",
    "\n",
    "    for char in name[1:]:\n",
    "        for key in dictionary.keys():\n",
    "            if char in key:\n",
    "                code = dictionary[key]\n",
    "                if code != soundex[-1]:\n",
    "                    soundex += code\n",
    "\n",
    "    soundex = soundex.replace(\".\", \"\")\n",
    "    soundex = soundex[:8].ljust(8, \"0\")\n",
    "\n",
    "    return soundex"
   ]
  },
  {
   "cell_type": "code",
   "execution_count": 68,
   "metadata": {},
   "outputs": [],
   "source": [
    "dictionary = {\"BFPV\": \"1\", \"CGJKQSXZ\":\"2\", \"DT\":\"3\", \"L\":\"4\", \"MN\":\"5\", \"R\":\"6\", \"EIY\":\"7\",\"OU\":\"8\",\"AHW\":\".\"}\n",
    "inverse_lst = [\"\", \"BFPV\", \"CGJKQSXZ\", \"DT\", \"L\", \"MN\", \"R\", \"EIY\",\"OU\",\"AHW\"]"
   ]
  },
  {
   "cell_type": "code",
   "execution_count": 69,
   "metadata": {},
   "outputs": [],
   "source": [
    "def get_one(str1):\n",
    "    return str1[random.randint(0,len(str1)-1)]"
   ]
  },
  {
   "cell_type": "code",
   "execution_count": 70,
   "metadata": {},
   "outputs": [],
   "source": [
    "def guess_the_gibberish(sentence):\n",
    "    gibberish = \"\"\n",
    "    for word in sentence.split(' '):\n",
    "        phonetics_code = get_soundex_modified(word)\n",
    "        for ch in phonetics_code:\n",
    "            if(ch=='0'):\n",
    "                break\n",
    "            else:\n",
    "\n",
    "                if( (ch>='0') & (ch<='9') ):\n",
    "                    gibberish = gibberish + get_one(inverse_lst[int(ch)])\n",
    "                else:\n",
    "                    gibberish = gibberish + ch\n",
    "        gibberish = gibberish +\" \"\n",
    "    return [sentence,gibberish]"
   ]
  },
  {
   "cell_type": "code",
   "execution_count": 74,
   "metadata": {},
   "outputs": [
    {
     "name": "stdout",
     "output_type": "stream",
     "text": [
      "['A blessing in disguise', 'A BLICIMS IN DYZUIGE ']\n",
      "['A dime a dozen', 'A DIME A DOJYN ']\n",
      "['Beat around the bush', 'BYT ARUND TE BUC ']\n",
      "['Better late than never', 'BYTIR LTY TN NIBIR ']\n",
      "['Bite the bullet', 'BEDE TY BOLYD ']\n",
      "['Break a leg', 'BREQ A LIK ']\n",
      "['Call it a day', 'CL ID A DE ']\n",
      "['Under the weather', 'UMDER TI WEDYR ']\n",
      "[\"Time flies when you're having fun\", 'TYME FLYQ WEN YURE HVEMK FOM ']\n",
      "['Speak of the devil', 'SPYC OV TY DEPYL ']\n",
      "['The best of both worlds', 'TY BEQT OB BOT WORLDJ ']\n"
     ]
    }
   ],
   "source": [
    "free_memory()\n",
    "output_lst = []\n",
    "for sentence in proverbs:\n",
    "    output_lst.append(guess_the_gibberish(sentence))\n",
    "    print(guess_the_gibberish(sentence))"
   ]
  },
  {
   "cell_type": "code",
   "execution_count": 75,
   "metadata": {},
   "outputs": [],
   "source": [
    "df = pd.DataFrame(output_lst,columns=[\"Proverb\",\"gibberish\"])"
   ]
  },
  {
   "cell_type": "code",
   "execution_count": 76,
   "metadata": {},
   "outputs": [
    {
     "data": {
      "text/html": [
       "<div>\n",
       "<style scoped>\n",
       "    .dataframe tbody tr th:only-of-type {\n",
       "        vertical-align: middle;\n",
       "    }\n",
       "\n",
       "    .dataframe tbody tr th {\n",
       "        vertical-align: top;\n",
       "    }\n",
       "\n",
       "    .dataframe thead th {\n",
       "        text-align: right;\n",
       "    }\n",
       "</style>\n",
       "<table border=\"1\" class=\"dataframe\">\n",
       "  <thead>\n",
       "    <tr style=\"text-align: right;\">\n",
       "      <th></th>\n",
       "      <th>Proverb</th>\n",
       "      <th>gibberish</th>\n",
       "    </tr>\n",
       "  </thead>\n",
       "  <tbody>\n",
       "    <tr>\n",
       "      <td>0</td>\n",
       "      <td>A blessing in disguise</td>\n",
       "      <td>A BLYJEMK IN DIKUYJI</td>\n",
       "    </tr>\n",
       "    <tr>\n",
       "      <td>1</td>\n",
       "      <td>A dime a dozen</td>\n",
       "      <td>A DYNY A DUJIN</td>\n",
       "    </tr>\n",
       "    <tr>\n",
       "      <td>2</td>\n",
       "      <td>Beat around the bush</td>\n",
       "      <td>BID AROMT TI BUZ</td>\n",
       "    </tr>\n",
       "    <tr>\n",
       "      <td>3</td>\n",
       "      <td>Better late than never</td>\n",
       "      <td>BIDIR LDI TN NYPIR</td>\n",
       "    </tr>\n",
       "    <tr>\n",
       "      <td>4</td>\n",
       "      <td>Bite the bullet</td>\n",
       "      <td>BIDE TY BULYD</td>\n",
       "    </tr>\n",
       "  </tbody>\n",
       "</table>\n",
       "</div>"
      ],
      "text/plain": [
       "                  Proverb              gibberish\n",
       "0  A blessing in disguise  A BLYJEMK IN DIKUYJI \n",
       "1          A dime a dozen        A DYNY A DUJIN \n",
       "2    Beat around the bush      BID AROMT TI BUZ \n",
       "3  Better late than never    BIDIR LDI TN NYPIR \n",
       "4         Bite the bullet         BIDE TY BULYD "
      ]
     },
     "execution_count": 76,
     "metadata": {},
     "output_type": "execute_result"
    }
   ],
   "source": [
    "df.head()"
   ]
  },
  {
   "cell_type": "code",
   "execution_count": 77,
   "metadata": {},
   "outputs": [],
   "source": [
    "df.to_csv(\"output.csv\",index=False,header=True)"
   ]
  },
  {
   "cell_type": "code",
   "execution_count": null,
   "metadata": {},
   "outputs": [],
   "source": []
  }
 ],
 "metadata": {
  "kernelspec": {
   "display_name": "Python 3",
   "language": "python",
   "name": "python3"
  },
  "language_info": {
   "codemirror_mode": {
    "name": "ipython",
    "version": 3
   },
   "file_extension": ".py",
   "mimetype": "text/x-python",
   "name": "python",
   "nbconvert_exporter": "python",
   "pygments_lexer": "ipython3",
   "version": "3.7.4"
  }
 },
 "nbformat": 4,
 "nbformat_minor": 2
}
